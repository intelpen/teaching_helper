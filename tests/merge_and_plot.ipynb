{
 "cells": [
  {
   "cell_type": "code",
   "execution_count": 3,
   "metadata": {},
   "outputs": [
    {
     "name": "stdout",
     "output_type": "stream",
     "text": [
      "gemini-1.0-pro-001\n",
      "gemini-1.5-flash-001\n",
      "gemini-1.5-pro-001\n",
      "gemini-2.0-flash-001\n",
      "gemini-2.0-pro-exp-02-05\n",
      "gemini-1.0-pro-001\n",
      "gemini-1.5-flash-001\n",
      "gemini-1.5-pro-001\n",
      "gemini-2.0-flash-001\n",
      "gemini-2.0-pro-exp-02-05\n"
     ]
    }
   ],
   "source": [
    "import pandas as pd\n",
    "file_list= [\n",
    " 'ragas_results_gemini-1.0-pro-001_pages_2025-02-19 12:16:55.csv',\n",
    " 'ragas_results_gemini-1.5-flash-001_pages_2025-02-19 12:36:38.csv',\n",
    " 'ragas_results_gemini-1.5-pro-001_pages_2025-02-19 13:00:02.csv',\n",
    " 'ragas_results_gemini-2.0-flash-001_pages_2025-02-19 13:19:21.csv',\n",
    " 'ragas_results_gemini-2.0-pro-exp-02-05_pages_2025-02-19 13:40:03.csv',\n",
    "\n",
    "'ragas_results_gemini-1.0-pro-001_chunks_2025-02-18 22:38:46.csv',\n",
    "'ragas_results_gemini-1.5-flash-001_chunks_2025-02-18 23:02:29.csv',\n",
    "'ragas_results_gemini-1.5-pro-001_chunks_2025-02-18 23:28:23.csv',\n",
    "'ragas_results_gemini-2.0-flash-001_chunks_2025-02-18 23:52:02.csv',\n",
    "'ragas_results_gemini-2.0-pro-exp-02-05_chunks_2025-02-19 00:17:12.csv',\n",
    "\n",
    "\n",
    "]\n",
    "\n",
    "df_list =[]\n",
    "for filename in file_list:\n",
    "    if '_chunks_' in filename:\n",
    "        model_name = filename.split('_chunks_')[0][14:]\n",
    "        print(model_name)\n",
    "        df= pd.read_csv(filename)\n",
    "        split = 'chunks'\n",
    "    if '_pages_' in filename:\n",
    "        model_name = filename.split('_pages_')[0][14:]\n",
    "        print(model_name)\n",
    "        df = pd.read_csv(filename)\n",
    "        split = 'pages'\n",
    "    df['model'] = model_name\n",
    "    df['split'] = split\n",
    "    df['filename'] = filename\n",
    "    df_list.append(df)\n",
    "\n",
    "df_all = pd.concat(df_list)\n",
    "df_all.to_csv('df_all.csv')\n",
    "\n",
    "\n",
    "\n"
   ]
  }
 ],
 "metadata": {
  "kernelspec": {
   "display_name": "py311vertex",
   "language": "python",
   "name": "python3"
  },
  "language_info": {
   "codemirror_mode": {
    "name": "ipython",
    "version": 3
   },
   "file_extension": ".py",
   "mimetype": "text/x-python",
   "name": "python",
   "nbconvert_exporter": "python",
   "pygments_lexer": "ipython3",
   "version": "3.11.11"
  }
 },
 "nbformat": 4,
 "nbformat_minor": 2
}
